{
 "cells": [
  {
   "cell_type": "markdown",
   "id": "97831db5",
   "metadata": {},
   "source": [
    "\n",
    "# Essential Tools Workshop: pandas, NumPy, matplotlib  \n",
    "**Goal:** Load some data, make a scatter plot, and draw a simple line of best fit.  \n",
    "_Side quest:_ learn just enough pandas/NumPy/matplotlib to be dangerous (and charming).\n"
   ]
  },
  {
   "cell_type": "markdown",
   "id": "1344d669",
   "metadata": {},
   "source": [
    "\n",
    "## Setup\n",
    "We'll import the three musketeers of Python data work:\n",
    "- **pandas** for tables,\n",
    "- **NumPy** for numbers,\n",
    "- **matplotlib** for plots.\n"
   ]
  },
  {
   "cell_type": "code",
   "execution_count": null,
   "id": "0a7cdd56",
   "metadata": {},
   "outputs": [
    {
     "ename": "",
     "evalue": "",
     "output_type": "error",
     "traceback": [
      "\u001b[1;31mRunning cells with 'Python 3.9.6' requires the ipykernel package.\n",
      "\u001b[1;31m<a href='command:jupyter.createPythonEnvAndSelectController'>Create a Python Environment</a> with the required packages.\n",
      "\u001b[1;31mOr install 'ipykernel' using the command: '/usr/bin/python3 -m pip install ipykernel -U --user --force-reinstall'"
     ]
    }
   ],
   "source": [
    "\n",
    "# If you're running locally and need to install:\n",
    "# !pip install pandas numpy matplotlib\n",
    "\n",
    "import pandas as pd\n",
    "import numpy as np\n",
    "import matplotlib.pyplot as plt\n",
    "\n",
    "# Jupyter nicety so plots show up below each cell\n",
    "%matplotlib inline\n"
   ]
  },
  {
   "cell_type": "markdown",
   "id": "1c28091d",
   "metadata": {},
   "source": [
    "\n",
    "## Step 1. Get some data (two options)\n",
    "We'll create a small CSV (so nobody has to download anything) **and** show how to read it.\n",
    "\n",
    "**Columns:**\n",
    "- `hours_studied` (x)\n",
    "- `exam_score` (y)\n"
   ]
  },
  {
   "cell_type": "code",
   "execution_count": null,
   "id": "d2b7999f",
   "metadata": {},
   "outputs": [
    {
     "ename": "",
     "evalue": "",
     "output_type": "error",
     "traceback": [
      "\u001b[1;31mRunning cells with 'Python 3.9.6' requires the ipykernel package.\n",
      "\u001b[1;31m<a href='command:jupyter.createPythonEnvAndSelectController'>Create a Python Environment</a> with the required packages.\n",
      "\u001b[1;31mOr install 'ipykernel' using the command: '/usr/bin/python3 -m pip install ipykernel -U --user --force-reinstall'"
     ]
    }
   ],
   "source": [
    "\n",
    "import os\n",
    "\n",
    "# Create a tiny dataset (a little noise keeps it real)\n",
    "rng = np.random.default_rng(7)\n",
    "hours = np.linspace(0, 10, 30)\n",
    "scores = 50 + 5*hours + rng.normal(0, 5, size=hours.size)\n",
    "\n",
    "demo = pd.DataFrame({\n",
    "    \"hours_studied\": hours.round(2),\n",
    "    \"exam_score\": scores.round(2)\n",
    "})\n",
    "\n",
    "os.makedirs(\"data\", exist_ok=True)\n",
    "demo.to_csv(\"data/study_scores.csv\", index=False)\n",
    "print(\"Wrote data/study_scores.csv with\", len(demo), \"rows\")\n",
    "demo.head()\n"
   ]
  },
  {
   "cell_type": "markdown",
   "id": "99dd6c59",
   "metadata": {},
   "source": [
    "\n",
    "## Step 2. pandas 101 (reading, peeking, selecting)\n",
    "pandas turns your CSV into a **DataFrame** (a table with superpowers).\n"
   ]
  },
  {
   "cell_type": "code",
   "execution_count": null,
   "id": "dc797d16",
   "metadata": {},
   "outputs": [],
   "source": [
    "\n",
    "# Read the CSV\n",
    "df = pd.read_csv(\"data/study_scores.csv\")\n",
    "\n",
    "# Quick peeks\n",
    "display(df.head())          # first five rows\n",
    "display(df.tail(3))         # last three rows\n",
    "display(df.sample(5))       # a random sample\n",
    "\n",
    "# Structure & summary\n",
    "display(df.info())          # column names + types + missing values\n",
    "display(df.describe())      # basic stats (mean, std, min, max, quartiles)\n"
   ]
  },
  {
   "cell_type": "markdown",
   "id": "96db8374",
   "metadata": {},
   "source": [
    "\n",
    "### Selecting columns & rows\n",
    "- Column(s): `df[\"col\"]` or `df[[\"col1\",\"col2\"]]`  \n",
    "- Row filter: boolean masks like `df[df[\"hours_studied\"] > 5]`\n"
   ]
  },
  {
   "cell_type": "code",
   "execution_count": null,
   "id": "2877ddab",
   "metadata": {},
   "outputs": [],
   "source": [
    "\n",
    "x = df[\"hours_studied\"]            # a pandas Series\n",
    "y = df[\"exam_score\"]               # another Series\n",
    "\n",
    "over_5 = df[df[\"hours_studied\"] > 5]\n",
    "display(over_5.head())\n"
   ]
  },
  {
   "cell_type": "markdown",
   "id": "2ea575c7",
   "metadata": {},
   "source": [
    "\n",
    "# Step 3. Cleaning basics (a tiny taste)\n",
    "Real data is messy. A few handy moves:\n",
    "- `dropna()` to remove missing values\n",
    "- `fillna(value)` to fill them\n",
    "- `rename(columns={...})` to tidy names\n",
    "- type conversions: `df[\"col\"].astype(float)`\n"
   ]
  },
  {
   "cell_type": "code",
   "execution_count": null,
   "id": "20e4c357",
   "metadata": {},
   "outputs": [
    {
     "ename": "",
     "evalue": "",
     "output_type": "error",
     "traceback": [
      "\u001b[1;31mRunning cells with 'Python 3.9.6' requires the ipykernel package.\n",
      "\u001b[1;31m<a href='command:jupyter.createPythonEnvAndSelectController'>Create a Python Environment</a> with the required packages.\n",
      "\u001b[1;31mOr install 'ipykernel' using the command: '/usr/bin/python3 -m pip install ipykernel -U --user --force-reinstall'"
     ]
    }
   ],
   "source": [
    "\n",
    "# (Our toy data is already clean, but here's the pattern.)\n",
    "df_clean = (\n",
    "    df\n",
    "    .dropna()\n",
    "    .rename(columns={\"hours_studied\": \"hours\", \"exam_score\": \"score\"})\n",
    ")\n",
    "display(df_clean.head())\n"
   ]
  },
  {
   "cell_type": "markdown",
   "id": "333b36dc",
   "metadata": {},
   "source": [
    "\n",
    "## Step 4. NumPy 101 (arrays, simple math)\n",
    "NumPy is great for **numeric operations** and quick math on arrays.\n"
   ]
  },
  {
   "cell_type": "code",
   "execution_count": null,
   "id": "9efcf5eb",
   "metadata": {},
   "outputs": [],
   "source": [
    "\n",
    "hours_np = df_clean[\"hours\"].to_numpy()\n",
    "score_np = df_clean[\"score\"].to_numpy()\n",
    "\n",
    "print(\"hours type:\", type(hours_np), \"shape:\", hours_np.shape)\n",
    "print(\"score  mean:\", np.mean(score_np).round(2), \"| std:\", np.std(score_np).round(2))\n",
    "\n",
    "# A quick transform example (no need to use it later—just demoing)\n",
    "scaled_hours = (hours_np - hours_np.mean()) / hours_np.std()\n",
    "scaled_hours[:5]\n"
   ]
  },
  {
   "cell_type": "markdown",
   "id": "3522a8ca",
   "metadata": {},
   "source": [
    "\n",
    "## Step 5. matplotlib 101 (scatter plots)\n",
    "Minimal recipe for a scatter plot:\n",
    "1. `plt.figure()` to start a new figure\n",
    "2. `plt.scatter(x, y)` to plot dots\n",
    "3. Labels + title so Future You knows what's going on\n",
    "4. `plt.show()` (shown automatically in notebooks)\n"
   ]
  },
  {
   "cell_type": "code",
   "execution_count": null,
   "id": "e4e4ad6d",
   "metadata": {},
   "outputs": [],
   "source": [
    "\n",
    "plt.figure()\n",
    "plt.scatter(df_clean[\"hours\"], df_clean[\"score\"])\n",
    "plt.xlabel(\"Hours studied\")\n",
    "plt.ylabel(\"Exam score\")\n",
    "plt.title(\"Hours vs. Score (scatter)\")\n",
    "plt.grid(True, alpha=0.3)\n",
    "plt.show()\n"
   ]
  },
  {
   "cell_type": "markdown",
   "id": "06591949",
   "metadata": {},
   "source": [
    "\n",
    "## Step 6. A simple line of best fit (with NumPy)\n",
    "We can fit a straight line \\( y = m x + b \\) using `np.polyfit(x, y, 1)`.\n",
    "\n",
    "- `m` = slope (how much the score changes per extra hour)\n",
    "- `b` = intercept (score when hours = 0)\n",
    "\n",
    "We'll plot the line **on top** of the scatter plot.\n"
   ]
  },
  {
   "cell_type": "code",
   "execution_count": null,
   "id": "3ea5b975",
   "metadata": {},
   "outputs": [],
   "source": [
    "\n",
    "# Fit a first-degree polynomial (a line): y ≈ m*x + b\n",
    "m, b = np.polyfit(df_clean[\"hours\"], df_clean[\"score\"], 1)\n",
    "\n",
    "# Create x-values across the range to draw the line\n",
    "x_line = np.linspace(df_clean[\"hours\"].min(), df_clean[\"hours\"].max(), 100)\n",
    "y_line = m * x_line + b\n",
    "\n",
    "print(f\"slope (m) = {m:.3f}, intercept (b) = {b:.3f}\")\n",
    "\n",
    "plt.figure()\n",
    "plt.scatter(df_clean[\"hours\"], df_clean[\"score\"], label=\"data\")\n",
    "plt.plot(x_line, y_line, label=\"best-fit line\")\n",
    "plt.xlabel(\"Hours studied\")\n",
    "plt.ylabel(\"Exam score\")\n",
    "plt.title(\"Hours vs. Score with Line of Best Fit\")\n",
    "plt.legend()\n",
    "plt.grid(True, alpha=0.3)\n",
    "plt.show()\n"
   ]
  },
  {
   "cell_type": "markdown",
   "id": "7355a245",
   "metadata": {},
   "source": [
    "\n",
    "## Step 7. Save your work\n",
    "Always nice to keep artifacts:\n",
    "- a cleaned CSV\n",
    "- a plot image\n"
   ]
  },
  {
   "cell_type": "code",
   "execution_count": null,
   "id": "a5c8ea9c",
   "metadata": {},
   "outputs": [],
   "source": [
    "\n",
    "import os\n",
    "os.makedirs(\"outputs/figures\", exist_ok=True)\n",
    "os.makedirs(\"data/processed\", exist_ok=True)\n",
    "\n",
    "# Save a clean CSV\n",
    "df_clean.to_csv(\"data/processed/study_scores_clean.csv\", index=False)\n",
    "\n",
    "# Recreate & save the plot\n",
    "plt.figure()\n",
    "plt.scatter(df_clean[\"hours\"], df_clean[\"score\"])\n",
    "plt.plot(x_line, y_line)\n",
    "plt.xlabel(\"Hours studied\")\n",
    "plt.ylabel(\"Exam score\")\n",
    "plt.title(\"Hours vs. Score with Line of Best Fit\")\n",
    "plt.grid(True, alpha=0.3)\n",
    "plt.savefig(\"outputs/figures/hours_vs_score.png\", bbox_inches=\"tight\")\n",
    "\"Saved: outputs/figures/hours_vs_score.png\"\n"
   ]
  },
  {
   "cell_type": "markdown",
   "id": "b4206a62",
   "metadata": {},
   "source": [
    "\n",
    "## Step 8. Wrap-up\n",
    "You just:\n",
    "- loaded a CSV with **pandas**,\n",
    "- wrangled a few basics,\n",
    "- did simple math with **NumPy**,\n",
    "- made a scatter plot and best-fit line with **matplotlib** + **NumPy**.\n",
    "\n",
    "Next step in the series: bring data from a **database (SQL)** instead of a single CSV.\n"
   ]
  }
 ],
 "metadata": {
  "kernelspec": {
   "display_name": ".venv (3.13.7)",
   "language": "python",
   "name": "python3"
  },
  "language_info": {
   "name": "python",
   "version": "3.13.7"
  }
 },
 "nbformat": 4,
 "nbformat_minor": 5
}
